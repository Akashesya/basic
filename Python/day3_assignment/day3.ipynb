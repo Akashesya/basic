{
 "cells": [
  {
   "cell_type": "markdown",
   "id": "5fd6d6f5",
   "metadata": {},
   "source": [
    "# Day 3 assignment\n"
   ]
  },
  {
   "cell_type": "code",
   "execution_count": 1,
   "id": "637a4288",
   "metadata": {},
   "outputs": [],
   "source": [
    "import numpy as np\n",
    "import pandas as pd\n"
   ]
  },
  {
   "cell_type": "code",
   "execution_count": 2,
   "id": "0ee1fed8",
   "metadata": {},
   "outputs": [],
   "source": [
    "x=np.array([[23,4,5],[4,2,5],[6,7,8]])\n",
    "new_array=2*x\n"
   ]
  },
  {
   "cell_type": "code",
   "execution_count": 3,
   "id": "22980b83",
   "metadata": {},
   "outputs": [
    {
     "name": "stdout",
     "output_type": "stream",
     "text": [
      "[[23  4  5]\n",
      " [ 4  2  5]\n",
      " [ 6  7  8]]\n"
     ]
    }
   ],
   "source": [
    "print(x)"
   ]
  },
  {
   "cell_type": "code",
   "execution_count": 4,
   "id": "beb57b7a",
   "metadata": {},
   "outputs": [
    {
     "name": "stdout",
     "output_type": "stream",
     "text": [
      "[[46  8 10]\n",
      " [ 8  4 10]\n",
      " [12 14 16]]\n"
     ]
    }
   ],
   "source": [
    "print(new_array)"
   ]
  },
  {
   "cell_type": "markdown",
   "id": "a073e908",
   "metadata": {},
   "source": [
    "# 2nd part"
   ]
  },
  {
   "cell_type": "code",
   "execution_count": 10,
   "id": "120fd6d4",
   "metadata": {},
   "outputs": [
    {
     "name": "stdout",
     "output_type": "stream",
     "text": [
      "  product  price  quantity\n",
      "0  Laptop   1000         3\n",
      "1  Mobile    500        50\n",
      "2  Tablet    300        65\n"
     ]
    }
   ],
   "source": [
    "dict={\n",
    "    'product':['Laptop','Mobile','Tablet'],\n",
    "    'price':[1000,500,300],\n",
    "    'quantity':[3,50,65]\n",
    "}\n",
    "df=pd.DataFrame(dict,index=[0,1,2])\n",
    "print(df)\n",
    "\n"
   ]
  },
  {
   "cell_type": "markdown",
   "id": "85a66be4",
   "metadata": {},
   "source": [
    "# 3rd part"
   ]
  },
  {
   "cell_type": "code",
   "execution_count": 12,
   "id": "22c3aef3",
   "metadata": {},
   "outputs": [
    {
     "name": "stdout",
     "output_type": "stream",
     "text": [
      "  product  price  quantity\n",
      "2  Tablet    300        65\n"
     ]
    }
   ],
   "source": [
    "datafiltered=df[df\n",
    "['quantity']>50]\n",
    "print(datafiltered)"
   ]
  }
 ],
 "metadata": {
  "kernelspec": {
   "display_name": "Python 3",
   "language": "python",
   "name": "python3"
  },
  "language_info": {
   "codemirror_mode": {
    "name": "ipython",
    "version": 3
   },
   "file_extension": ".py",
   "mimetype": "text/x-python",
   "name": "python",
   "nbconvert_exporter": "python",
   "pygments_lexer": "ipython3",
   "version": "3.13.7"
  }
 },
 "nbformat": 4,
 "nbformat_minor": 5
}
